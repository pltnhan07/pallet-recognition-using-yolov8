{
  "nbformat": 4,
  "nbformat_minor": 0,
  "metadata": {
    "colab": {
      "provenance": [],
      "gpuType": "T4"
    },
    "kernelspec": {
      "name": "python3",
      "display_name": "Python 3"
    },
    "language_info": {
      "name": "python"
    },
    "accelerator": "GPU"
  },
  "cells": [
    {
      "cell_type": "code",
      "execution_count": null,
      "metadata": {
        "id": "KB56DGQi5WEe"
      },
      "outputs": [],
      "source": [
        "from google.colab import drive\n",
        "drive.mount('/content/drive')"
      ]
    },
    {
      "cell_type": "code",
      "source": [
        "import os\n",
        "import sys\n",
        "os.chdir('/content/drive/MyDrive/Projects/PalletDetection')\n",
        "sys.path.append(\"/content/drive/MyDrive/Projects/PalletDetection\")\n",
        "!pwd"
      ],
      "metadata": {
        "id": "cMl4WiOF5jKA"
      },
      "execution_count": null,
      "outputs": []
    },
    {
      "cell_type": "code",
      "source": [
        "pip install ultralytics"
      ],
      "metadata": {
        "id": "mMHXDOtqKhmL"
      },
      "execution_count": null,
      "outputs": []
    },
    {
      "cell_type": "code",
      "source": [
        "from ultralytics import YOLO\n",
        "\n",
        "# Load a model\n",
        "model = YOLO(\"yolov8n.yaml\")  # build a new model from YAML\n",
        "model = YOLO(\"yolov8n.pt\")  # load a pretrained model (recommended for training)\n",
        "model = YOLO(\"yolov8n.yaml\").load(\"yolov8n.pt\")  # build from YAML and transfer weights"
      ],
      "metadata": {
        "id": "mJyeZqQZKf-m"
      },
      "execution_count": null,
      "outputs": []
    },
    {
      "cell_type": "code",
      "source": [
        "# Train the model\n",
        "results = model.train(data=\"./datasets/data.yaml\", epochs=100, imgsz=224, patience=50)"
      ],
      "metadata": {
        "id": "BEi23PyW4Ooq"
      },
      "execution_count": null,
      "outputs": []
    },
    {
      "cell_type": "code",
      "source": [
        "# Validate the model\n",
        "metrics = model.val()  # no arguments needed, dataset and settings remembered\n",
        "metrics.box.map  # map50-95\n",
        "metrics.box.map50  # map50\n",
        "metrics.box.map75  # map75\n",
        "metrics.box.maps  # a list contains map50-95 of each category"
      ],
      "metadata": {
        "id": "OQv6NyQqLDye"
      },
      "execution_count": null,
      "outputs": []
    },
    {
      "cell_type": "code",
      "source": [
        "# Modify training parameters for tuning\n",
        "results = model.train(data=\"./datasets/data.yaml\", epochs=150, imgsz=256, lr0=0.001, batch_size=16)"
      ],
      "metadata": {
        "id": "305lZFEgSzl3"
      },
      "execution_count": null,
      "outputs": []
    },
    {
      "cell_type": "code",
      "source": [
        "# Validate the model again after tuning\n",
        "metrics = model.val()\n",
        "\n",
        "# Print the updated metrics\n",
        "print(f\"Updated mAP50-95: {metrics.box.map}\")\n",
        "print(f\"Updated mAP50: {metrics.box.map50}\")\n",
        "print(f\"Updated mAP75: {metrics.box.map75}\")\n",
        "print(f\"Updated mAPs per category: {metrics.box.maps}\")"
      ],
      "metadata": {
        "id": "trNoydcMTn36"
      },
      "execution_count": null,
      "outputs": []
    },
    {
      "cell_type": "code",
      "source": [
        "# Predict with the trained and tuned model\n",
        "results = model.predict(source=\"./datasets/test/images\", imgsz=224)\n",
        "\n",
        "# Example: Print or visualize predictions\n",
        "for result in results:\n",
        "    print(result)  # Print prediction results\n",
        "    result.show()  # Visualize prediction results"
      ],
      "metadata": {
        "id": "JB78LTGvSmjn"
      },
      "execution_count": null,
      "outputs": []
    }
  ]
}